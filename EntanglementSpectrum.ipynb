{
 "cells": [
  {
   "cell_type": "code",
   "execution_count": 13,
   "metadata": {},
   "outputs": [],
   "source": [
    "from qiskit.quantum_info import random_statevector\n",
    "from scipy import sparse\n",
    "import numpy\n",
    "import re\n",
    "from tqdm import tqdm\n",
    "import scipy\n",
    "import itertools\n",
    "from qiskit.quantum_info import Pauli\n",
    "from qiskit.aqua.operators import WeightedPauliOperator\n",
    "from qiskit.aqua.operators.legacy import op_converter"
   ]
  },
  {
   "cell_type": "markdown",
   "metadata": {},
   "source": [
    "The function below computes the inner product between two states $\\langle\\Psi|\\Phi\\rangle$."
   ]
  },
  {
   "cell_type": "code",
   "execution_count": 14,
   "metadata": {},
   "outputs": [],
   "source": [
    " #This function computes the Inner Product\n",
    "def InnerProd(A,B):\n",
    "    IP=0.0\n",
    "    for i in range(len(A)):\n",
    "        for j in range(len(B)):\n",
    "            if A['keys'][i]==B['keys'][j]:\n",
    "                IP=IP+numpy.conjugate(A['vals'][i])*B['vals'][j]\n",
    "#     hashedA = numpy.array([hash(s) for s in A['keys']])\n",
    "#     hashedB = numpy.array([hash(s) for s in B['keys']])\n",
    "#     AdjMat=numpy.equal.outer(hashedB, hashedA)\n",
    "#     SparsedAdjMat=sparse.csr_matrix(AdjMat)\n",
    "#     IP=numpy.sum(sparse.csr_matrix.dot(sparse.csr_matrix.dot(B['vals'],SparsedAdjMat),A['vals']))\n",
    "    return IP"
   ]
  },
  {
   "cell_type": "markdown",
   "metadata": {},
   "source": [
    "__Gram Schmidt Decomposition__<br>\n",
    "If $|\\phi_{0}\\rangle,|\\phi_{1}\\rangle$ are non-orthogonal $\\langle\\phi_{0}|\\phi_{1}\\rangle\\neq 0$<br>\n",
    "then we can perform a Gram Schmidt decomposition as follows:<br>\n",
    "$|\\phi_{1,\\perp}\\rangle=\\mathcal{N}^{-1}\\left[|\\phi_{1}\\rangle-|\\phi_{0}\\rangle\\langle\\phi_{0}|\\phi_{1}\\rangle\\right]$<br>\n",
    "and we can check$:~$\n",
    "$\\langle\\phi_{0}|\\phi_{1,\\perp}\\rangle=0$"
   ]
  },
  {
   "cell_type": "code",
   "execution_count": 15,
   "metadata": {},
   "outputs": [],
   "source": [
    "#This function carries out Gram Schmidt Orthonormalization\n",
    "def GSOrth(PsiOld,PsiNonOrth):\n",
    "    innerProd=InnerProd(PsiNonOrth,PsiOld)\n",
    "    if(innerProd==0):\n",
    "        return PsiNonOrth\n",
    "    else:\n",
    "        supCoeff=innerProd\n",
    "        PsiUnionKeys=numpy.union1d(PsiOld['keys'],PsiNonOrth['keys'])\n",
    "        PsiCompose=numpy.array([0.0j+numpy.sum(PsiNonOrth['vals'][PsiNonOrth['keys']==config])-supCoeff*numpy.sum(PsiOld['vals'][PsiOld['keys']==config]) for config in PsiUnionKeys],dtype='complex')\n",
    "        PsiNew=numpy.rec.fromarrays([PsiUnionKeys,PsiCompose],names='keys,vals')\n",
    "        return PsiNew\n",
    "    "
   ]
  },
  {
   "cell_type": "code",
   "execution_count": 16,
   "metadata": {},
   "outputs": [],
   "source": [
    "def per(n):\n",
    "    List=[0]*int(2**n)\n",
    "    for i in range(1<<n):\n",
    "        s=bin(i)[2:]\n",
    "        s='0'*(n-len(s))+s\n",
    "        List[i]=s\n",
    "    return List "
   ]
  },
  {
   "cell_type": "markdown",
   "metadata": {},
   "source": [
    "This function below allows us to decompose the statevector into two subspaces. One of them is composed of two qubits i,j in configurations $|00\\rangle$, $|01\\rangle$, $|10\\rangle$, $|11\\rangle$ and other qubits can be in some general configuration:<br>\n",
    "$|\\Psi\\rangle=c_{0}|00\\rangle|\\phi_{0}\\rangle+c_{1}|01\\rangle|\\phi_{1}\\rangle+c_{2}|10\\rangle|\\phi_{2}\\rangle+c_{3}|11\\rangle|\\phi_{3}\\rangle$, note in general $\\langle\\phi_{i}|\\phi_{j}\\rangle\\neq 0$."
   ]
  },
  {
   "cell_type": "code",
   "execution_count": 17,
   "metadata": {},
   "outputs": [],
   "source": [
    "def partitionStateVec(Psi,setPoints):\n",
    "    #|\\Psi\\rangle=c_{0}|00>|\\phi_{0}>+c_{1}|01>|\\phi_{1}>+c_{2}|10>|\\phi_{2}>+c_{3}|11>|\\phi_{3}>\n",
    "    manyBodyKet=numpy.array([numpy.array([conf.split(',')[0],eval(conf.split(',')[1])]) for conf in Psi],dtype='<U64')\n",
    "    Ket=numpy.rec.fromarrays([manyBodyKet[:,0],manyBodyKet[:,1].astype(complex)],dtype=[('keys','<U64'),('vals','complex')])\n",
    "    List=per(len(setPoints))\n",
    "    BitConfigArr=['.'*setPoints[-1]+elem+'.'*(num_qubits-setPoints[-1]-len(setPoints)) for elem in List]\n",
    "    r=[re.compile(BitConfig) for BitConfig in BitConfigArr]\n",
    "    PsiSubSystemConfs=[[List[i],Ket[numpy.vectorize(lambda x:bool(r[i].match(x)))(Ket['keys'])]] for i in tqdm(range(len(List)))]\n",
    "    PsiSubSystemConfs1=[]\n",
    "    PsiUniqueConfs=[]\n",
    "    for a in tqdm(range(len(List))):\n",
    "        if((0 in PsiSubSystemConfs[a][1].shape)==False):\n",
    "            tag=PsiSubSystemConfs[a][0]\n",
    "            Psi=PsiSubSystemConfs[a][1]\n",
    "            for conf in Psi['keys']:\n",
    "                Psi['keys'][Psi['keys']==conf]=Psi['keys'][Psi['keys']==conf][0][0:setPoints[0]]+Psi['keys'][Psi['keys']==conf][0][setPoints[len(setPoints)-1]+1:num_qubits]\n",
    "            sqrtIP=numpy.sqrt(InnerProd(Psi,Psi))\n",
    "            Psi['vals']=(1/sqrtIP)*Psi['vals']\n",
    "            ###modified\n",
    "            IPs=numpy.array([abs(InnerProd(PsiSubSystemConfs1[j][1],Psi)+1) for j in range(len(PsiSubSystemConfs1))])\n",
    "            sgn=1 if len(numpy.where(IPs<1e-8)[0])==0 else -1\n",
    "            PsiSubSystemConfs1=PsiSubSystemConfs1+[[tag,Psi,sgn*sqrtIP]]\n",
    "            cond=True\n",
    "            for j in range(len(PsiUniqueConfs)):\n",
    "                if(abs(InnerProd(PsiSubSystemConfs1[a][1],PsiUniqueConfs[j])-1)<1e-5):\n",
    "                    cond=False\n",
    "            if (cond is True):\n",
    "                PsiUniqueConfs=PsiUniqueConfs+[PsiSubSystemConfs1[a][1]]\n",
    "    uniqueTags=numpy.unique([conf[0] for conf in PsiSubSystemConfs1])\n",
    "    return uniqueTags,PsiUniqueConfs,PsiSubSystemConfs1"
   ]
  },
  {
   "cell_type": "markdown",
   "metadata": {},
   "source": [
    "In the state decomposed above the kets belonging to the subspaces need not be orthognal. This function below allows us to rewrite the statevector as a tensor decomposition between two subspaces A and B for a given partition, in which every ket in both the subspaces is orthogonal to every other ket.<br>\n",
    "Mathematically we need a representation where,<br>\n",
    "\\begin{align}|\\Psi\\rangle=\\sum_{i,j}D_{ij}|\\psi_{A,i}\\rangle|\\psi_{B,j}\\rangle, \\langle\\psi_{A,j}|\\psi_{A,i}\\rangle=\\delta_{ij}$ and $\\langle\\psi_{B,j}|\\psi_{B,i}\\rangle=\\delta_{ij}\n",
    "\\end{align}\n",
    "This leads to a tensor network decomposition of the state.<br>\n",
    "\\begin{align}\n",
    "|\\Psi\\rangle&=&\\begin{pmatrix} |\\psi_{A,1}\\rangle & |\\psi_{A,2}\\rangle & |\\psi_{A,3}\\rangle & \\ldots \\end{pmatrix}\\begin{pmatrix}D_{11} & D_{12} & D_{13} & \\ldots\\\\\n",
    "D_{21} & D_{22} & D_{23} &\\ldots\\\\\n",
    "D_{31} & D_{32} & D_{33} &\\ldots\\\\\n",
    "\\vdots & \\vdots& \\vdots & \\ddots\n",
    "\\end{pmatrix}\\begin{pmatrix} |\\psi_{A,1}\\rangle \\\\|\\psi_{A,2}\\rangle \\\\ |\\psi_{A,3}\\rangle \\\\ \\vdots\n",
    "\\end{pmatrix}\n",
    "\\end{align}"
   ]
  },
  {
   "cell_type": "code",
   "execution_count": 18,
   "metadata": {},
   "outputs": [],
   "source": [
    "#Obtaining the D matrix for a given partition of two qubits from the rest\n",
    "#D=  D_11  D_12  D_13 ...\n",
    "#    D_21  D_22  D_23 ...\n",
    "#    D_31  D_32  D_33 ...\n",
    "#     .     .     .  .\n",
    "#     .     .     .     .\n",
    "#     .     .     .       .\n",
    "def D(uniqueTags,PsiUniqueConfs,PsiSubSystemConfs):\n",
    "    PsiOrtho=[PsiUniqueConfs[0]]\n",
    "    for i in tqdm(range(1,len(PsiUniqueConfs))):\n",
    "        Psi1=PsiUniqueConfs[i]\n",
    "        innerProds=[InnerProd(PsiOrtho[j],Psi1) for j in range(len(PsiOrtho))]\n",
    "        for j in range(len(PsiOrtho)):\n",
    "            PsiUnionKeys=numpy.union1d(PsiOrtho[j]['keys'],Psi1['keys']) \n",
    "            PsiCompose=numpy.array([0.0j+numpy.sum(Psi1['vals'][Psi1['keys']==config])-innerProds[j]*numpy.sum(PsiOrtho[j]['vals'][PsiOrtho[j]['keys']==config]) for config in PsiUnionKeys],dtype='complex')\n",
    "            Psi1=numpy.rec.fromarrays([PsiUnionKeys,PsiCompose],names='keys,vals')\n",
    "        if len(numpy.where(numpy.array(Psi1['vals'])==0)[0])==len(Psi1['vals']):\n",
    "            Psi1=[]\n",
    "        else:    \n",
    "            Psi1['vals']=Psi1['vals']/numpy.sqrt(InnerProd(Psi1,Psi1))\n",
    "            Psi1=Psi1[numpy.abs(Psi1['vals'])>1e-5]\n",
    "        A=numpy.array([numpy.abs(InnerProd(PsiOrtho[i],Psi1)) for i in range(len(PsiOrtho))]) \n",
    "        if len(numpy.where(numpy.abs(A)<1e-7)[0])==len(A) and len(Psi1)!=0:\n",
    "            PsiOrtho=PsiOrtho+[Psi1]\n",
    "        else:\n",
    "            continue      \n",
    "    boolCond=True\n",
    "    for i in range(len(PsiOrtho)):\n",
    "        for j in range(len(PsiOrtho)):\n",
    "            if(i!=j):\n",
    "                if(abs(InnerProd(PsiOrtho[i],PsiOrtho[j]))>1e-5):\n",
    "                    boolCond=False\n",
    "            else:\n",
    "                if(abs(InnerProd(PsiOrtho[i],PsiOrtho[j])-1)>1e-5):\n",
    "                    boolCond=False\n",
    "\n",
    "    if(boolCond==True):\n",
    "        print(\"Orthonormal basis formed\")\n",
    "    if(boolCond==False):\n",
    "        A=[numpy.abs(numpy.abs(InnerProd(PsiOrtho[i],PsiOrtho[j]))-1) for i in range(len(PsiOrtho)) for j in range(len(PsiOrtho)) if i!=j]\n",
    "        print(A)\n",
    "        print(\"1-FAILED\")\n",
    "        return PsiOrtho \n",
    "    ###########################################\n",
    "            #Computing the D matrix\n",
    "    ############################################\n",
    "    Dmat=numpy.zeros([len(uniqueTags),len(PsiOrtho)])*1j\n",
    "    #extracting the tags associated with the two spin configurations \n",
    "    #within the members in Psi decomposed into subsystems->PsiSubSystemConfs\n",
    "    tags=[psi[0] for psi in PsiSubSystemConfs]\n",
    "    for i in range(len(uniqueTags)):\n",
    "        for j in range(len(PsiOrtho)):\n",
    "            ind=numpy.where(numpy.array(tags)==uniqueTags[i])[0]\n",
    "            Sum=0\n",
    "            for index in range(len(ind)):\n",
    "                Sum=Sum+InnerProd(PsiSubSystemConfs[ind[index]][1],PsiOrtho[j])*PsiSubSystemConfs[ind[index]][2]\n",
    "            Dmat[i][j]=Sum\n",
    "    #Checking normalization from D matrix\n",
    "    norm=numpy.dot(Dmat.flatten(),numpy.conjugate(Dmat.flatten()))\n",
    "#     if(numpy.abs(norm-1)<1e-4):\n",
    "#         print(\"D matrix constructed succesfully\")\n",
    "    if(numpy.abs(norm-1)>1e-4):\n",
    "        print(\"D matrix construction failed\",norm)\n",
    "        return \"2-FAILED\",norm\n",
    "#     else:\n",
    "#         print(\"D matrix construction successful\\n\",D)\n",
    "    return Dmat     "
   ]
  },
  {
   "cell_type": "markdown",
   "metadata": {},
   "source": [
    "The function below carries out Schmidt decomposition of the entangled state $|\\Psi\\rangle$ for the subsystem partition two qubits and all rest.\n",
    "Mathematically Schmidt decomposition is given by<br>\n",
    "$|\\Psi\\rangle=\\lambda_{1}|\\psi_{1}\\rangle|\\chi_{1}\\rangle+\\lambda_{2}|\\psi_{2}\\rangle|\\chi_{2}\\rangle$, such that $S=[\\lambda_{1},\\lambda_{2}]$  are Schmidt coefficients and $\\langle\\psi_{2}|\\psi_{1}\\rangle=\\langle\\chi_{2}|\\chi_{1}\\rangle=0$<br>\n",
    "We carry out below the Schmidt Decomposition via singular value decomposition of D matrix <br>\n",
    "https://numpy.org/doc/stable/reference/generated/numpy.linalg.svd.html<br>\n",
    "$D=USV^{H}$, here $S$ is the Schmidt vector, U and V are 2d matrices"
   ]
  },
  {
   "cell_type": "code",
   "execution_count": 19,
   "metadata": {},
   "outputs": [],
   "source": [
    "def SchmidtVector_partition(D):\n",
    "    u,SchmidtVec,v=numpy.linalg.svd(D, full_matrices=True)\n",
    "    return SchmidtVec"
   ]
  },
  {
   "cell_type": "code",
   "execution_count": 20,
   "metadata": {},
   "outputs": [],
   "source": [
    "def Haar(num_qubits):\n",
    "    #defining a random n qubit Haar random state\n",
    "    state=random_statevector(2**num_qubits).data\n",
    "    amplitudes=state\n",
    "    bit_arr = [list(i) for i in itertools.product([0, 1], repeat=num_qubits)]\n",
    "    bitStr_arr=[''.join([str(bit_arr[i][j]) for j in range(len(bit_arr[i]))]) for i in range(len(bit_arr))]\n",
    "    #String rep. for the random state\n",
    "    Psi=[bitStr_arr[i]+','+str(amplitudes[i]) for i in range(len(amplitudes))]\n",
    "    return Psi,state"
   ]
  },
  {
   "cell_type": "code",
   "execution_count": 21,
   "metadata": {},
   "outputs": [],
   "source": [
    "#note arange isolated qubits with indices in decreasing fashion\n",
    "def SchmidtSpectrum(state,isolated_qbits):\n",
    "    amplitudes=state\n",
    "    bit_arr = [list(i) for i in itertools.product([0, 1], repeat=num_qubits)]\n",
    "    bitStr_arr=[''.join([str(bit_arr[i][j]) for j in range(len(bit_arr[i]))]) for i in range(len(bit_arr))]\n",
    "    #String rep. for the random state\n",
    "    Psi=[bitStr_arr[i]+','+str(amplitudes[i]) for i in range(len(amplitudes))]\n",
    "    uniqueTags,PsiUniqueConfs,PsiSubSystemConfs=partitionStateVec(Psi,isolated_qbits)\n",
    "    Dmat=D(uniqueTags,PsiUniqueConfs,PsiSubSystemConfs)\n",
    "    Schmidt_part=SchmidtVector_partition(Dmat)\n",
    "    return Schmidt_part"
   ]
  },
  {
   "cell_type": "code",
   "execution_count": 10,
   "metadata": {},
   "outputs": [],
   "source": [
    "# num_qubits=10\n",
    "# Psi,state=Haar(10)"
   ]
  },
  {
   "cell_type": "code",
   "execution_count": 11,
   "metadata": {},
   "outputs": [],
   "source": [
    "#setPoints=numpy.arange(int(num_qubits/2))[::-1]"
   ]
  },
  {
   "cell_type": "code",
   "execution_count": 12,
   "metadata": {},
   "outputs": [],
   "source": [
    "# N=num_qubits\n",
    "# uniqueTags,PsiUniqueConfs,PsiSubSystemConfs=partitionStateVec(Psi,setPoints)\n",
    "# # # #constructing D matrix\n",
    "# Dmat=D(uniqueTags,PsiUniqueConfs,PsiSubSystemConfs)\n",
    "# norm=numpy.dot(Dmat.flatten(),numpy.conjugate(Dmat.flatten()))\n",
    "# # # #Schmidt vector for the partition qubit pair (i,j) from rest\n",
    "# Schmidt_part=SchmidtVector_partition(Dmat)"
   ]
  },
  {
   "cell_type": "code",
   "execution_count": null,
   "metadata": {},
   "outputs": [],
   "source": []
  }
 ],
 "metadata": {
  "kernelspec": {
   "display_name": "Python 3",
   "language": "python",
   "name": "python3"
  },
  "language_info": {
   "codemirror_mode": {
    "name": "ipython",
    "version": 3
   },
   "file_extension": ".py",
   "mimetype": "text/x-python",
   "name": "python",
   "nbconvert_exporter": "python",
   "pygments_lexer": "ipython3",
   "version": "3.8.3"
  }
 },
 "nbformat": 4,
 "nbformat_minor": 4
}
