{
 "cells": [
  {
   "cell_type": "markdown",
   "metadata": {},
   "source": [
    "#### Calculating Schmidt Coefficients for the state :$|\\psi\\rangle=|0\\rangle(c_{0}|00\\rangle+c_{1}|10\\rangle)+|1\\rangle(c_{2}|10\\rangle+c_{3}|11\\rangle)$"
   ]
  },
  {
   "cell_type": "code",
   "execution_count": 1,
   "metadata": {},
   "outputs": [
    {
     "data": {
      "text/html": [
       "<style>.container { width:100% !important; }</style>"
      ],
      "text/plain": [
       "<IPython.core.display.HTML object>"
      ]
     },
     "metadata": {},
     "output_type": "display_data"
    }
   ],
   "source": [
    "import numpy\n",
    "from IPython.core.display import display, HTML\n",
    "display(HTML(\"<style>.container { width:100% !important; }</style>\"))"
   ]
  },
  {
   "cell_type": "code",
   "execution_count": 2,
   "metadata": {},
   "outputs": [],
   "source": [
    "import numpy\n",
    "#defining a state\n",
    "bitStr_arr=['000','010','110','111']\n",
    "# weights=(2*numpy.random.rand(4)-1)\n",
    "# weights=weights/numpy.sqrt(numpy.dot(weights,weights))\n",
    "c0=0.11886944338750266\n",
    "c1=-0.8601152325203439\n",
    "c2=-0.34446178176855907\n",
    "c3=0.356956472298864\n",
    "weights=numpy.array([ c0, c1, c2, c3])\n",
    "state=numpy.zeros(2**3)\n",
    "indexes=numpy.array([int(bitStr_arr[i],2) for i in range(len(bitStr_arr))])\n",
    "state[indexes]=weights"
   ]
  },
  {
   "cell_type": "code",
   "execution_count": 3,
   "metadata": {},
   "outputs": [
    {
     "name": "stdout",
     "output_type": "stream",
     "text": [
      "[ 0.11887  0.      -0.86012  0.       0.       0.      -0.34446  0.35696]\n"
     ]
    }
   ],
   "source": [
    "#representation of the state\n",
    "numpy.set_printoptions(precision=5)\n",
    "print(state)"
   ]
  },
  {
   "cell_type": "code",
   "execution_count": 4,
   "metadata": {},
   "outputs": [
    {
     "data": {
      "text/plain": [
       "1.0"
      ]
     },
     "execution_count": 4,
     "metadata": {},
     "output_type": "execute_result"
    }
   ],
   "source": [
    "#checking normalization\n",
    "numpy.dot(weights,weights)"
   ]
  },
  {
   "cell_type": "markdown",
   "metadata": {},
   "source": [
    "Representing $|\\Psi\\rangle$ in the tensor product of 2 subspaces, subspace-1: 1st qubit and subspace-2: 2nd and 3rd qubit<br>\n",
    "$|\\Psi\\rangle=d_{0}|0\\rangle|\\phi_{0}\\rangle+d_{1}|1\\rangle|\\phi_{1}\\rangle$, where $d_{0}=\\sqrt{c_{0}^{2}+c_{1}^{2}}, ~~~d_{1}=\\sqrt{c_{2}^{2}+c_{3}^{2}}$<br>\n",
    "<br>\n",
    "$|\\phi_{0}\\rangle=\\frac{1}{\\sqrt{c_{0}^{2}+c_{1}^{2}}}\\left[c_{0}|00\\rangle+c_{1}|10\\rangle\\right]$<br>\n",
    "$|\\phi_{1}\\rangle=\\frac{1}{\\sqrt{c_{2}^{2}+c_{3}^{2}}}\\left[c_{2}|10\\rangle+c_{3}|11\\rangle\\right]$"
   ]
  },
  {
   "cell_type": "code",
   "execution_count": 5,
   "metadata": {},
   "outputs": [],
   "source": [
    "d0=numpy.sqrt(c0**2+c1**2)\n",
    "d1=numpy.sqrt(c2**2+c3**2)\n",
    "phi0=numpy.zeros(2**2)\n",
    "phi1=numpy.zeros(2**2)\n",
    "phi0[numpy.array([int(bitStr_arr[0][1:],2),int(bitStr_arr[1][1:],2)])]=numpy.array([c0/d0,c1/d0])\n",
    "phi1[numpy.array([int(bitStr_arr[2][1:],2),int(bitStr_arr[3][1:],2)])]=numpy.array([c2/d1,c3/d1])\n",
    "zero_ket=numpy.array([1,0])\n",
    "one_ket=numpy.array([0,1])\n",
    "state_decomp=d0*numpy.kron(zero_ket,phi0)+d1*numpy.kron(one_ket,phi1) # This should be equivalent to state"
   ]
  },
  {
   "cell_type": "markdown",
   "metadata": {},
   "source": [
    "__Gram Schmidt Decomposition__<br>\n",
    "$|\\phi_{1,\\perp}\\rangle=\\mathcal{N}^{-1}\\left[|\\phi_{1}\\rangle-|\\phi_{0}\\rangle\\langle\\phi_{0}|\\phi_{1}\\rangle\\right]$, $\\langle\\phi_{0}|\\phi_{1,\\perp}\\rangle=0$"
   ]
  },
  {
   "cell_type": "code",
   "execution_count": 6,
   "metadata": {},
   "outputs": [],
   "source": [
    "#Constructing two orthonormal vectors from phi0 and phi1 using Gram Schmidt decomposition\n",
    "phi1_perp=phi1-numpy.dot(phi1,phi0)*phi0\n",
    "Norm=numpy.sqrt(numpy.dot(phi1_perp,phi1_perp))\n",
    "phi1_perp=Norm**-1*phi1_perp"
   ]
  },
  {
   "cell_type": "code",
   "execution_count": 7,
   "metadata": {},
   "outputs": [
    {
     "name": "stdout",
     "output_type": "stream",
     "text": [
      "Earlier inner product between phi0 and phi1- 0.6878626691343455\n",
      "Inner product between phi0 and phi1_perp after Gram Schmidt Decomposition- 1.3877787807814457e-17\n"
     ]
    }
   ],
   "source": [
    "#checking if orthogonal\n",
    "print(\"Earlier inner product between phi0 and phi1-\", numpy.dot(phi0,phi1))\n",
    "print(\"Inner product between phi0 and phi1_perp after Gram Schmidt Decomposition-\", numpy.dot(phi0,phi1_perp))"
   ]
  },
  {
   "cell_type": "markdown",
   "metadata": {},
   "source": [
    "Decomposing the state across two Hilbert spaces made from orthogonal vectors<br>\n",
    "$|\\Psi\\rangle=d_{0}|0\\rangle|\\phi_{0}\\rangle+d_{1}|1\\rangle|\\phi_{1}\\rangle$<br>\n",
    "$|\\phi_{1}\\rangle=\\mathcal{N}|\\phi_{1,\\perp}\\rangle+|\\phi_{0}\\rangle\\langle\\phi_{0}|\\phi_{1}\\rangle$<br>\n",
    "$|\\Psi\\rangle=d_{0}|0\\rangle|\\phi_{0}\\rangle+d_{1}\\mathcal{N}|1\\rangle|\\phi_{1,\\perp}\\rangle+d_{1}|1\\rangle|\\phi_{0}\\rangle\\langle\\phi_{0}|\\phi_{1}\\rangle$, here $\\langle\\phi_{1,\\perp}|\\phi_{0}\\rangle=0$ and $\\langle 1|0\\rangle=0$<br>\n",
    "We have accomplished the first step now, i.e. representing $|\\Psi\\rangle$ as ,<br>\n",
    "$|\\Psi\\rangle=\\sum_{i,j}m_{i,j}|\\rho_{i}\\rangle|\\lambda_{j}\\rangle$ where $\\langle\\rho_{i}|\\rho_{j}\\rangle=\\delta_{ij}, \\langle\\lambda_{i}|\\lambda_{j}\\rangle=\\delta_{ij}$ <br>\n",
    "Tensor representation of the state <br>\n",
    "\\begin{align}\n",
    "|\\Psi\\rangle=(|\\rho_{1}\\rangle ~~& ~~|\\rho_{2}\\rangle)\\begin{pmatrix} M_{00} & M_{01} \\\\\n",
    "                                                                   M_{10} & M_{11}\n",
    "                                                    \\end{pmatrix}  \\begin{pmatrix}(|\\lambda_{1}\\rangle \\\\ |\\lambda_{2}\\rangle\\end{pmatrix}\n",
    "\\end{align}<br>\n",
    "\\begin{align}M=\\begin{pmatrix} M_{00} & M_{01} \\\\\n",
    "                                                                   M_{10} & M_{11}\n",
    "                \\end{pmatrix}\n",
    "               \\end{align} \n"
   ]
  },
  {
   "cell_type": "code",
   "execution_count": 10,
   "metadata": {},
   "outputs": [],
   "source": [
    "M=numpy.zeros((2,2))\n",
    "M[0,0]=numpy.dot(numpy.kron(zero_ket,phi0),state_decomp)\n",
    "M[0,1]=numpy.dot(numpy.kron(zero_ket,phi1_perp),state_decomp)\n",
    "M[1,0]=numpy.dot(numpy.kron(one_ket,phi0),state_decomp)\n",
    "M[1,1]=numpy.dot(numpy.kron(one_ket,phi1_perp),state_decomp)"
   ]
  },
  {
   "cell_type": "code",
   "execution_count": 11,
   "metadata": {},
   "outputs": [
    {
     "name": "stdout",
     "output_type": "stream",
     "text": [
      "Tensor Representation of the 3-qubit state decomposed into two subparts of 1 and 2 qubits.\n",
      "[[8.68290e-01 1.21431e-17]\n",
      " [3.41219e-01 3.60058e-01]]\n"
     ]
    }
   ],
   "source": [
    "print(\"Tensor Representation of the 3-qubit state decomposed into two subparts of 1 and 2 qubits.\")\n",
    "print(M)"
   ]
  },
  {
   "cell_type": "markdown",
   "metadata": {},
   "source": [
    "Schmidt Decomposition via Singular value decomposition of above matrix <br>\n",
    "https://numpy.org/doc/stable/reference/generated/numpy.linalg.svd.html<br>\n",
    "$M=USV^{H}$, here $S$ is the Schmidt vector"
   ]
  },
  {
   "cell_type": "markdown",
   "metadata": {},
   "source": [
    "Schmidt decomposed state<br>\n",
    "$|\\Psi\\rangle=\\lambda_{1}|\\psi_{1}\\rangle|\\chi_{1}\\rangle+\\lambda_{2}|\\psi_{2}\\rangle|\\chi_{2}\\rangle$, $S=[\\lambda_{1},\\lambda_{2}]$, $\\langle\\psi_{2}|\\psi_{1}\\rangle=\\langle\\chi_{2}|\\chi_{1}\\rangle=0$"
   ]
  },
  {
   "cell_type": "code",
   "execution_count": 12,
   "metadata": {},
   "outputs": [],
   "source": [
    "u, schmidt_coeff_vec, vh = numpy.linalg.svd(M, full_matrices=True)"
   ]
  },
  {
   "cell_type": "code",
   "execution_count": 13,
   "metadata": {},
   "outputs": [
    {
     "name": "stdout",
     "output_type": "stream",
     "text": [
      "[0.94351 0.33135]\n"
     ]
    }
   ],
   "source": [
    "# Schmidt Coefficient vector \n",
    "print(schmidt_coeff_vec)"
   ]
  },
  {
   "cell_type": "code",
   "execution_count": 14,
   "metadata": {},
   "outputs": [],
   "source": [
    "#check Schmidt coefficients from the reduced density matrix by partial tracing one subsytem\n",
    "#sqrt of the non-zero eigenvalues of the reduced density matrix are the Schmidt Cefficients."
   ]
  },
  {
   "cell_type": "code",
   "execution_count": 15,
   "metadata": {},
   "outputs": [],
   "source": [
    "import qutip\n",
    "from qutip import *"
   ]
  },
  {
   "cell_type": "code",
   "execution_count": 16,
   "metadata": {},
   "outputs": [
    {
     "data": {
      "text/plain": [
       "['000', '010', '110', '111']"
      ]
     },
     "execution_count": 16,
     "metadata": {},
     "output_type": "execute_result"
    }
   ],
   "source": [
    "bitStr_arr"
   ]
  },
  {
   "cell_type": "code",
   "execution_count": 17,
   "metadata": {},
   "outputs": [],
   "source": [
    "#representating |\\Psi\\rangle in qutip\n",
    "state_qutip=weights[0]*tensor(basis(2,0),basis(2,0),basis(2,0))+weights[1]*tensor(basis(2,0),basis(2,1),basis(2,0))+weights[2]*tensor(basis(2,1),basis(2,1),basis(2,0))+weights[3]*tensor(basis(2,1),basis(2,1),basis(2,1))"
   ]
  },
  {
   "cell_type": "code",
   "execution_count": 18,
   "metadata": {},
   "outputs": [
    {
     "data": {
      "text/latex": [
       "Quantum object: dims = [[2, 2, 2], [1, 1, 1]], shape = (8, 1), type = ket\\begin{equation*}\\left(\\begin{array}{*{11}c}0.119\\\\0.0\\\\-0.860\\\\0.0\\\\0.0\\\\0.0\\\\-0.344\\\\0.357\\\\\\end{array}\\right)\\end{equation*}"
      ],
      "text/plain": [
       "Quantum object: dims = [[2, 2, 2], [1, 1, 1]], shape = (8, 1), type = ket\n",
       "Qobj data =\n",
       "[[ 0.11887]\n",
       " [ 0.     ]\n",
       " [-0.86012]\n",
       " [ 0.     ]\n",
       " [ 0.     ]\n",
       " [ 0.     ]\n",
       " [-0.34446]\n",
       " [ 0.35696]]"
      ]
     },
     "execution_count": 18,
     "metadata": {},
     "output_type": "execute_result"
    }
   ],
   "source": [
    "state_qutip"
   ]
  },
  {
   "cell_type": "markdown",
   "metadata": {},
   "source": [
    "Constructing density matrix <br>\n",
    "$\\rho=|\\Psi\\rangle\\langle\\Psi|$"
   ]
  },
  {
   "cell_type": "code",
   "execution_count": 19,
   "metadata": {},
   "outputs": [],
   "source": [
    "Rho=state_qutip*state_qutip.dag()"
   ]
  },
  {
   "cell_type": "code",
   "execution_count": 20,
   "metadata": {},
   "outputs": [
    {
     "data": {
      "text/latex": [
       "Quantum object: dims = [[2, 2, 2], [2, 2, 2]], shape = (8, 8), type = oper, isherm = True\\begin{equation*}\\left(\\begin{array}{*{11}c}0.014 & 0.0 & -0.102 & 0.0 & 0.0 & 0.0 & -0.041 & 0.042\\\\0.0 & 0.0 & 0.0 & 0.0 & 0.0 & 0.0 & 0.0 & 0.0\\\\-0.102 & 0.0 & 0.740 & 0.0 & 0.0 & 0.0 & 0.296 & -0.307\\\\0.0 & 0.0 & 0.0 & 0.0 & 0.0 & 0.0 & 0.0 & 0.0\\\\0.0 & 0.0 & 0.0 & 0.0 & 0.0 & 0.0 & 0.0 & 0.0\\\\0.0 & 0.0 & 0.0 & 0.0 & 0.0 & 0.0 & 0.0 & 0.0\\\\-0.041 & 0.0 & 0.296 & 0.0 & 0.0 & 0.0 & 0.119 & -0.123\\\\0.042 & 0.0 & -0.307 & 0.0 & 0.0 & 0.0 & -0.123 & 0.127\\\\\\end{array}\\right)\\end{equation*}"
      ],
      "text/plain": [
       "Quantum object: dims = [[2, 2, 2], [2, 2, 2]], shape = (8, 8), type = oper, isherm = True\n",
       "Qobj data =\n",
       "[[ 0.01413  0.      -0.10224  0.       0.       0.      -0.04095  0.04243]\n",
       " [ 0.       0.       0.       0.       0.       0.       0.       0.     ]\n",
       " [-0.10224  0.       0.7398   0.       0.       0.       0.29628 -0.30702]\n",
       " [ 0.       0.       0.       0.       0.       0.       0.       0.     ]\n",
       " [ 0.       0.       0.       0.       0.       0.       0.       0.     ]\n",
       " [ 0.       0.       0.       0.       0.       0.       0.       0.     ]\n",
       " [-0.04095  0.       0.29628  0.       0.       0.       0.11865 -0.12296]\n",
       " [ 0.04243  0.      -0.30702  0.       0.       0.      -0.12296  0.12742]]"
      ]
     },
     "execution_count": 20,
     "metadata": {},
     "output_type": "execute_result"
    }
   ],
   "source": [
    "Rho"
   ]
  },
  {
   "cell_type": "markdown",
   "metadata": {},
   "source": [
    "Constructing reduced density matrix<br>\n",
    "$\\rho=Tr_{1,2}(|\\Psi\\rangle\\langle\\Psi|)$<br>\n",
    "$\\rho=\\lambda_{1}^{2}|e_{1}\\rangle\\langle e_{1}|+\\lambda_{2}^{2}|e_{2}\\rangle\\langle e_{2}|$ , here $\\langle e_{1}|e_{2}\\rangle=0$ and $\\lambda_{1,2}$ are the Schimdt coefficients.<br>\n",
    "__We will therefore verify the Schimdt coefficients obtained from svd wit that obtained from red. density matrix.__"
   ]
  },
  {
   "cell_type": "code",
   "execution_count": 21,
   "metadata": {},
   "outputs": [],
   "source": [
    "red_Rho = Rho.ptrace(0)"
   ]
  },
  {
   "cell_type": "code",
   "execution_count": 22,
   "metadata": {},
   "outputs": [],
   "source": [
    "w,v=numpy.linalg.eigh(red_Rho)"
   ]
  },
  {
   "cell_type": "code",
   "execution_count": 24,
   "metadata": {},
   "outputs": [
    {
     "data": {
      "text/plain": [
       "array([0.33135, 0.94351])"
      ]
     },
     "execution_count": 24,
     "metadata": {},
     "output_type": "execute_result"
    }
   ],
   "source": [
    "#Schmidt Coeffients are equal to square root of the red. density matrix as promised\n",
    "numpy.sqrt(w)"
   ]
  },
  {
   "cell_type": "code",
   "execution_count": null,
   "metadata": {},
   "outputs": [],
   "source": []
  }
 ],
 "metadata": {
  "kernelspec": {
   "display_name": "Python 3",
   "language": "python",
   "name": "python3"
  },
  "language_info": {
   "codemirror_mode": {
    "name": "ipython",
    "version": 3
   },
   "file_extension": ".py",
   "mimetype": "text/x-python",
   "name": "python",
   "nbconvert_exporter": "python",
   "pygments_lexer": "ipython3",
   "version": "3.8.3"
  }
 },
 "nbformat": 4,
 "nbformat_minor": 4
}
